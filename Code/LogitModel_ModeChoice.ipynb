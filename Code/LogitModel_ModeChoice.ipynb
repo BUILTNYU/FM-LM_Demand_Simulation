{
 "cells": [
  {
   "cell_type": "markdown",
   "metadata": {
    "deletable": true,
    "editable": true
   },
   "source": [
    "# Logistic Regression Model - Mode Choice"
   ]
  },
  {
   "cell_type": "code",
   "execution_count": 46,
   "metadata": {
    "collapsed": false,
    "deletable": true,
    "editable": true
   },
   "outputs": [],
   "source": [
    "# Import packages and dataset\n",
    "import pandas as pd\n",
    "import numpy as np\n",
    "from sklearn.linear_model import LogisticRegression\n",
    "from sklearn.model_selection import train_test_split\n",
    "trip_survey = pd.read_csv('../Data/trip_survey_working.csv', index_col=0, low_memory=False)"
   ]
  },
  {
   "cell_type": "code",
   "execution_count": 47,
   "metadata": {
    "collapsed": false,
    "deletable": true,
    "editable": true
   },
   "outputs": [],
   "source": [
    "# Separate data into X and Y\n",
    "\n",
    "X = trip_survey[['ODTPURP2_R', 'GENDER', 'AGE_R', 'INCOM_R', 'HHVEH', 'LIC', 'WORKS', 'TRIPDIST_R1',\n",
    "                'TRPDUR_R', 'OTAZ', 'OTRACT', 'DTAZ', 'DTRACT', 'TOD_R']]\n",
    "Y = trip_survey['PMODE_R']"
   ]
  },
  {
   "cell_type": "code",
   "execution_count": 48,
   "metadata": {
    "collapsed": false,
    "deletable": true,
    "editable": true,
    "scrolled": false
   },
   "outputs": [
    {
     "name": "stderr",
     "output_type": "stream",
     "text": [
      "/Users/Danny1/anaconda/lib/python2.7/site-packages/ipykernel/__main__.py:1: SettingWithCopyWarning: \n",
      "A value is trying to be set on a copy of a slice from a DataFrame\n",
      "\n",
      "See the caveats in the documentation: http://pandas.pydata.org/pandas-docs/stable/indexing.html#indexing-view-versus-copy\n",
      "  if __name__ == '__main__':\n"
     ]
    }
   ],
   "source": [
    "X.dropna(inplace=True)\n",
    "Y.dropna(inplace=True)"
   ]
  },
  {
   "cell_type": "code",
   "execution_count": 49,
   "metadata": {
    "collapsed": false,
    "deletable": true,
    "editable": true
   },
   "outputs": [],
   "source": [
    "# Split Data into training ad test data\n",
    "X_train, X_test, Y_train, Y_test = train_test_split(X, Y, test_size=0.33, random_state=123)"
   ]
  },
  {
   "cell_type": "code",
   "execution_count": null,
   "metadata": {
    "collapsed": true
   },
   "outputs": [],
   "source": [
    "X_train_dummies = pd.get_dummies(X_train)"
   ]
  },
  {
   "cell_type": "code",
   "execution_count": 51,
   "metadata": {
    "collapsed": false,
    "deletable": true,
    "editable": true,
    "scrolled": false
   },
   "outputs": [
    {
     "data": {
      "text/plain": [
       "{'C': 0.006737946999085467}"
      ]
     },
     "execution_count": 51,
     "metadata": {},
     "output_type": "execute_result"
    }
   ],
   "source": [
    "# Find best C parameter\n",
    "from sklearn.model_selection import GridSearchCV\n",
    "param_grid = {'C': [np.exp(i) for i in np.linspace(-5,5,20)]}\n",
    "logit = LogisticRegression(C=1)\n",
    "C_param = GridSearchCV(logit, param_grid, cv=5)\n",
    "C_param.fit(X_train_dummies, Y_train)\n",
    "C_param.best_params_"
   ]
  },
  {
   "cell_type": "code",
   "execution_count": 52,
   "metadata": {
    "collapsed": false,
    "deletable": true,
    "editable": true
   },
   "outputs": [
    {
     "name": "stdout",
     "output_type": "stream",
     "text": [
      "Successfully (OS) predict 70.8713451664% of the modes\n"
     ]
    }
   ],
   "source": [
    "# Cross validate using best C parameter\n",
    "avg_acc = []\n",
    "for i in range(100):\n",
    "    X_train, X_test, Y_train, Y_test = train_test_split(\n",
    "        X, Y, test_size=0.33, random_state=i) #Use random_state to fix samples\n",
    "    X_train_dummies = pd.get_dummies(X_train)\n",
    "    X_test_dummies = pd.get_dummies(X_test)\n",
    "\n",
    "    clf = LogisticRegression(C=C_param.best_params_.values()[0]) \n",
    "    clf.fit(X_train_dummies, Y_train)\n",
    "\n",
    "    avg_acc.append(1.0*(clf.predict(X_test_dummies)==np.asarray(Y_test)).sum()/len(Y_test))\n",
    "\n",
    "print (\"Successfully (OS) predict {}% of the modes\".format(np.mean(avg_acc)*100))"
   ]
  },
  {
   "cell_type": "code",
   "execution_count": null,
   "metadata": {
    "collapsed": true
   },
   "outputs": [],
   "source": []
  }
 ],
 "metadata": {
  "kernelspec": {
   "display_name": "Python [default]",
   "language": "python",
   "name": "python2"
  },
  "language_info": {
   "codemirror_mode": {
    "name": "ipython",
    "version": 2
   },
   "file_extension": ".py",
   "mimetype": "text/x-python",
   "name": "python",
   "nbconvert_exporter": "python",
   "pygments_lexer": "ipython2",
   "version": "2.7.8"
  }
 },
 "nbformat": 4,
 "nbformat_minor": 2
}
