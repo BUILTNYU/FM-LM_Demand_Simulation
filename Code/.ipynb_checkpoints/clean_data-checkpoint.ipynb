{
 "cells": [
  {
   "cell_type": "markdown",
   "metadata": {},
   "source": [
    "# Clean Data"
   ]
  },
  {
   "cell_type": "code",
   "execution_count": 223,
   "metadata": {
    "collapsed": false,
    "deletable": true,
    "editable": true
   },
   "outputs": [],
   "source": [
    "# Import packages and datasets\n",
    "import pandas as pd\n",
    "import geopandas as gpd\n",
    "import numpy as np\n",
    "linked = pd.read_csv('../Data/LINKED_Public.csv', low_memory=False)\n",
    "household = pd.read_csv('../Data/HH_Public.csv')\n",
    "person = pd.read_csv('../Data/PER_Public.csv')"
   ]
  },
  {
   "cell_type": "markdown",
   "metadata": {
    "deletable": true,
    "editable": true
   },
   "source": [
    "### Feature selected for analysis:\n",
    "\n",
    "LINKED_Public:\n",
    " \n",
    "- SAMPN (household identifier)\n",
    "- PERNO (person number)\n",
    "- PERTYPE (person type code)\n",
    "- ORIG_HOME (if home is origin)\n",
    "- DEST_HOME (if home is destination)\n",
    "- DOW (day of week of travel)\n",
    "- OTAZ (origin TAZ - NYMTC; WGS84) -- drop 0 Location Outside of NYBPM area\n",
    "- DTAZ (destination TAZ - NYMTC; WGS84) -- drop 0 Location Outside of NYBPM area\n",
    "- OTPURP_AGG (origin primary trip purpose)\n",
    "- DTPURP_AGG (destination primary trip purpose)\n",
    "- LTMODE_AGG (aggregate linked trip mode)\n",
    "- TRP_DEP_HR (trip departure hours)\n",
    "- TRP_DEP_MIN (trip departure minutes)\n",
    "- TRP_ARR_HR (trip arrival hours)\n",
    "- TRP_ARR_MIN (trip arrival minutes)\n",
    "- TRPDUR (trip duration minutes)\n",
    "- ACTDUR (activity duration)\n",
    "- OTRACT (origin tract 2010; WGS84)\n",
    "- DTRACT (destination tract 2010; WGS84)\n",
    "- PMODE1 (primary mode - re-categorized based on PMODE)\n",
    "- PMODE_R (primary mode range)\n",
    "- PMODE_R2 (primary mode range2)\n",
    "- PMODE_R3 (primary mode range3)\n",
    "- WORK_PURP (work vs. non-work)\n",
    "- DTPURP_R (aggregate destination primary trip purpose)\n",
    "- ODTPURP (aggregate Origin to Destination primary trip purpose)\n",
    "- ODTPURP1\n",
    "- ODTPURP2\n",
    "- ODTPURP2_R\n",
    "- WORKTRIP (dummy for work trip based on ODTPURP2_R)\n",
    "- TOD_R (time of departure range)\n",
    "- TOD_PEAK (time of departure: non-peak vs. peak)\n",
    "- TRIPDIST_R1 (trip distance range 1)\n",
    "- TRIPDIST_R2 (trip distance range 2)\n",
    "\n",
    "\n",
    "HH_Public:\n",
    "\n",
    "- STYPE (sample type) -- Matched\n",
    "- CTFIP (household residential location) -- NYC five boroughs(36047; 36061; 36081; 36005; 36085)\n",
    "- INCOM (household income) -- drop 99 Refused\n",
    "- DOW (day of travel during the week)\n",
    "- HHVEH (number of household vehicles)\n",
    "\n",
    "\n",
    "PER_Public:\n",
    "\n",
    "- PSAMP (unique Person Identifier)\n",
    "- SAMPN (household identifier)\n",
    "- PERNO (person identifier)\n",
    "- Gender -- drop 9 Refused\n",
    "- AGE_R (age range) -- drop 9 Age not provided\n",
    "- LIC (valid driver’s license) -- drop 8 Don’t Know and 9 Refused\n",
    "- RACE (Race/Ethnicity) -- drop 98 Don’t Know, and 99 Refused\n",
    "- EMPLY (emplyed) -- drop 8 Don’t Know and 9 Refused\n",
    "- WORKS (work status)\n",
    "- WKSTAT (unemployment Status) -- drop 8 Don’t Know and 9 Refused\n",
    "- JOBS (number of jobs)\n",
    "- WDAYS (work days) -- drop 8 Don’t Know and 9 Refused\n",
    "- INDUS (industry)\n",
    "- OCCUP (occupation)\n",
    "- O_OCCUP (other in occupation)\n",
    "- WLOC (work location)\n",
    "- WFIPS (work location county) -- NYC five boroughs(36047; 36061; 36081; 36005; 36085)\n",
    "- WMODE (usual mode of transportation to work) -- drop 98 Don’t Know and 99 Refused\n",
    "- O_WMODE (Other, model of transportation to work)\n",
    "- TTTWS (typical travel time to work) -- drop 999 Refused\n",
    "- CDRIV (as part of job, does/dp drive a household vehicle from work site to work site?) -- drop 8 Don’t Know and 9 Refused\n",
    "- WSTRT (work start time) -- drop 9999 Don’t Know / Refused\n",
    "- WEND (work end time) -- drop 9999 Don’t Know / Refused\n",
    "- STRVR (start time variation) -- drop 7 Other, 8 Don’t Know and 9 Refused\n",
    "- ENDVR (end time variation) -- drop 7 Other, 8 Don’t Know and 9 Refused\n",
    "- STUDE (student status) -- drop 8 DK and 9 RF\n",
    "\n"
   ]
  },
  {
   "cell_type": "code",
   "execution_count": 224,
   "metadata": {
    "collapsed": false,
    "deletable": true,
    "editable": true
   },
   "outputs": [],
   "source": [
    "# Select needed features from datasets\n",
    "linked_clean = linked[['SAMPN', 'PERNO', 'PERTYPE', 'ORIG_HOME', 'DEST_HOME', 'DOW', 'OTAZ', 'DTAZ','OTPURP_AGG', 'DTPURP_AGG', 'LTMODE_AGG',\n",
    "                       'TRP_DEP_HR', 'TRP_DEP_MIN', 'TRP_ARR_HR', 'TRP_ARR_MIN', 'TRPDUR', 'ACTDUR', 'OTRACT', 'DTRACT', 'PMODE1', 'PMODE_R',\n",
    "                       'PMODE_R2', 'PMODE_R3', 'WORK_PURP', 'DTPURP_R', 'ODTPURP', 'ODTPURP1', 'ODTPURP2', 'ODTPURP2_R', 'WORKTRIP', 'TOD_R',\n",
    "                       'TOD_PEAK', 'TRIPDIST_R1', 'TRIPDIST_R2']]\n",
    "\n",
    "household_clean = household[['SAMPN', 'STYPE', 'CTFIP', 'INCOM', 'DOW', 'HHVEH']]\n",
    "\n",
    "person_clean = person[['SAMPN', 'PERNO', 'GENDER', 'AGE_R', 'LIC', 'RACE', 'EMPLY', 'WORKS', 'WKSTAT', 'JOBS', 'WDAYS', 'INDUS', 'OCCUP',\n",
    "                       'O_OCCUP', 'WLOC', 'WFIPS', 'WMODE', 'O_WMODE', 'TTTWS', 'CDRIV', 'WSTRT', 'WEND', 'STRVR', 'ENDVR', 'STUDE']]"
   ]
  },
  {
   "cell_type": "markdown",
   "metadata": {
    "deletable": true,
    "editable": true
   },
   "source": [
    "# Clean Linked Trips Dataset"
   ]
  },
  {
   "cell_type": "code",
   "execution_count": 77,
   "metadata": {
    "collapsed": false,
    "deletable": true,
    "editable": true
   },
   "outputs": [
    {
     "data": {
      "text/plain": [
       "143925"
      ]
     },
     "execution_count": 77,
     "metadata": {},
     "output_type": "execute_result"
    }
   ],
   "source": [
    "len(linked_clean)"
   ]
  },
  {
   "cell_type": "code",
   "execution_count": 78,
   "metadata": {
    "collapsed": false
   },
   "outputs": [
    {
     "data": {
      "text/plain": [
       "SAMPN          False\n",
       "PERNO          False\n",
       "PERTYPE        False\n",
       "ORIG_HOME      False\n",
       "DEST_HOME      False\n",
       "DOW            False\n",
       "OTAZ           False\n",
       "DTAZ           False\n",
       "OTPURP_AGG     False\n",
       "DTPURP_AGG     False\n",
       "LTMODE_AGG     False\n",
       "TRP_DEP_HR     False\n",
       "TRP_DEP_MIN    False\n",
       "TRP_ARR_HR     False\n",
       "TRP_ARR_MIN    False\n",
       "TRPDUR         False\n",
       "ACTDUR         False\n",
       "OTRACT         False\n",
       "DTRACT         False\n",
       "PMODE1         False\n",
       "PMODE_R        False\n",
       "PMODE_R2       False\n",
       "PMODE_R3       False\n",
       "WORK_PURP      False\n",
       "DTPURP_R       False\n",
       "ODTPURP        False\n",
       "ODTPURP1       False\n",
       "ODTPURP2       False\n",
       "ODTPURP2_R     False\n",
       "WORKTRIP       False\n",
       "TOD_R          False\n",
       "TOD_PEAK        True\n",
       "TRIPDIST_R1     True\n",
       "TRIPDIST_R2     True\n",
       "dtype: bool"
      ]
     },
     "execution_count": 78,
     "metadata": {},
     "output_type": "execute_result"
    }
   ],
   "source": [
    "linked_clean.isnull().any()"
   ]
  },
  {
   "cell_type": "code",
   "execution_count": 79,
   "metadata": {
    "collapsed": false,
    "deletable": true,
    "editable": true
   },
   "outputs": [],
   "source": [
    "linked_clean = linked_clean[np.isfinite(linked_clean['TOD_PEAK'])]\n",
    "linked_clean = linked_clean[np.isfinite(linked_clean['TRIPDIST_R1'])]\n",
    "linked_clean = linked_clean[np.isfinite(linked_clean['TRIPDIST_R2'])]\n"
   ]
  },
  {
   "cell_type": "code",
   "execution_count": 80,
   "metadata": {
    "collapsed": false,
    "deletable": true,
    "editable": true
   },
   "outputs": [
    {
     "data": {
      "text/plain": [
       "140670"
      ]
     },
     "execution_count": 80,
     "metadata": {},
     "output_type": "execute_result"
    }
   ],
   "source": [
    "len(linked_clean)"
   ]
  },
  {
   "cell_type": "code",
   "execution_count": 81,
   "metadata": {
    "collapsed": false
   },
   "outputs": [
    {
     "data": {
      "text/plain": [
       "SAMPN          False\n",
       "PERNO          False\n",
       "PERTYPE        False\n",
       "ORIG_HOME      False\n",
       "DEST_HOME      False\n",
       "DOW            False\n",
       "OTAZ           False\n",
       "DTAZ           False\n",
       "OTPURP_AGG     False\n",
       "DTPURP_AGG     False\n",
       "LTMODE_AGG     False\n",
       "TRP_DEP_HR     False\n",
       "TRP_DEP_MIN    False\n",
       "TRP_ARR_HR     False\n",
       "TRP_ARR_MIN    False\n",
       "TRPDUR         False\n",
       "ACTDUR         False\n",
       "OTRACT         False\n",
       "DTRACT         False\n",
       "PMODE1         False\n",
       "PMODE_R        False\n",
       "PMODE_R2       False\n",
       "PMODE_R3       False\n",
       "WORK_PURP      False\n",
       "DTPURP_R       False\n",
       "ODTPURP        False\n",
       "ODTPURP1       False\n",
       "ODTPURP2       False\n",
       "ODTPURP2_R     False\n",
       "WORKTRIP       False\n",
       "TOD_R          False\n",
       "TOD_PEAK       False\n",
       "TRIPDIST_R1    False\n",
       "TRIPDIST_R2    False\n",
       "dtype: bool"
      ]
     },
     "execution_count": 81,
     "metadata": {},
     "output_type": "execute_result"
    }
   ],
   "source": [
    "linked_clean.isnull().any()"
   ]
  },
  {
   "cell_type": "code",
   "execution_count": 82,
   "metadata": {
    "collapsed": true
   },
   "outputs": [],
   "source": [
    "linked_clean = linked_clean.loc[linked_clean['OTAZ'] != 0]"
   ]
  },
  {
   "cell_type": "code",
   "execution_count": 83,
   "metadata": {
    "collapsed": true
   },
   "outputs": [],
   "source": [
    "linked_clean = linked_clean.loc[linked_clean['DTAZ'] != 0]"
   ]
  },
  {
   "cell_type": "code",
   "execution_count": 84,
   "metadata": {
    "collapsed": false
   },
   "outputs": [
    {
     "data": {
      "text/plain": [
       "138763"
      ]
     },
     "execution_count": 84,
     "metadata": {},
     "output_type": "execute_result"
    }
   ],
   "source": [
    "len(linked_clean)"
   ]
  },
  {
   "cell_type": "code",
   "execution_count": 85,
   "metadata": {
    "collapsed": false
   },
   "outputs": [
    {
     "data": {
      "text/html": [
       "<div>\n",
       "<table border=\"1\" class=\"dataframe\">\n",
       "  <thead>\n",
       "    <tr style=\"text-align: right;\">\n",
       "      <th></th>\n",
       "      <th>SAMPN</th>\n",
       "      <th>PERNO</th>\n",
       "      <th>PERTYPE</th>\n",
       "      <th>ORIG_HOME</th>\n",
       "      <th>DEST_HOME</th>\n",
       "      <th>DOW</th>\n",
       "      <th>OTAZ</th>\n",
       "      <th>DTAZ</th>\n",
       "      <th>OTPURP_AGG</th>\n",
       "      <th>DTPURP_AGG</th>\n",
       "      <th>...</th>\n",
       "      <th>DTPURP_R</th>\n",
       "      <th>ODTPURP</th>\n",
       "      <th>ODTPURP1</th>\n",
       "      <th>ODTPURP2</th>\n",
       "      <th>ODTPURP2_R</th>\n",
       "      <th>WORKTRIP</th>\n",
       "      <th>TOD_R</th>\n",
       "      <th>TOD_PEAK</th>\n",
       "      <th>TRIPDIST_R1</th>\n",
       "      <th>TRIPDIST_R2</th>\n",
       "    </tr>\n",
       "  </thead>\n",
       "  <tbody>\n",
       "    <tr>\n",
       "      <th>0</th>\n",
       "      <td>3000056</td>\n",
       "      <td>1</td>\n",
       "      <td>2</td>\n",
       "      <td>1</td>\n",
       "      <td>0</td>\n",
       "      <td>3</td>\n",
       "      <td>2626</td>\n",
       "      <td>2627</td>\n",
       "      <td>0</td>\n",
       "      <td>9</td>\n",
       "      <td>...</td>\n",
       "      <td>3</td>\n",
       "      <td>3</td>\n",
       "      <td>3</td>\n",
       "      <td>4</td>\n",
       "      <td>3</td>\n",
       "      <td>2</td>\n",
       "      <td>1</td>\n",
       "      <td>1.0</td>\n",
       "      <td>2.0</td>\n",
       "      <td>3.0</td>\n",
       "    </tr>\n",
       "    <tr>\n",
       "      <th>1</th>\n",
       "      <td>3000056</td>\n",
       "      <td>1</td>\n",
       "      <td>2</td>\n",
       "      <td>0</td>\n",
       "      <td>1</td>\n",
       "      <td>3</td>\n",
       "      <td>2627</td>\n",
       "      <td>2626</td>\n",
       "      <td>9</td>\n",
       "      <td>0</td>\n",
       "      <td>...</td>\n",
       "      <td>0</td>\n",
       "      <td>6</td>\n",
       "      <td>10</td>\n",
       "      <td>4</td>\n",
       "      <td>3</td>\n",
       "      <td>2</td>\n",
       "      <td>1</td>\n",
       "      <td>1.0</td>\n",
       "      <td>2.0</td>\n",
       "      <td>3.0</td>\n",
       "    </tr>\n",
       "    <tr>\n",
       "      <th>2</th>\n",
       "      <td>3000056</td>\n",
       "      <td>1</td>\n",
       "      <td>2</td>\n",
       "      <td>1</td>\n",
       "      <td>0</td>\n",
       "      <td>3</td>\n",
       "      <td>2626</td>\n",
       "      <td>2627</td>\n",
       "      <td>0</td>\n",
       "      <td>1</td>\n",
       "      <td>...</td>\n",
       "      <td>1</td>\n",
       "      <td>1</td>\n",
       "      <td>1</td>\n",
       "      <td>1</td>\n",
       "      <td>1</td>\n",
       "      <td>1</td>\n",
       "      <td>2</td>\n",
       "      <td>0.0</td>\n",
       "      <td>2.0</td>\n",
       "      <td>3.0</td>\n",
       "    </tr>\n",
       "    <tr>\n",
       "      <th>3</th>\n",
       "      <td>3000056</td>\n",
       "      <td>1</td>\n",
       "      <td>2</td>\n",
       "      <td>0</td>\n",
       "      <td>1</td>\n",
       "      <td>3</td>\n",
       "      <td>2627</td>\n",
       "      <td>2626</td>\n",
       "      <td>1</td>\n",
       "      <td>0</td>\n",
       "      <td>...</td>\n",
       "      <td>0</td>\n",
       "      <td>4</td>\n",
       "      <td>8</td>\n",
       "      <td>1</td>\n",
       "      <td>1</td>\n",
       "      <td>1</td>\n",
       "      <td>2</td>\n",
       "      <td>0.0</td>\n",
       "      <td>2.0</td>\n",
       "      <td>3.0</td>\n",
       "    </tr>\n",
       "    <tr>\n",
       "      <th>4</th>\n",
       "      <td>3000056</td>\n",
       "      <td>1</td>\n",
       "      <td>2</td>\n",
       "      <td>1</td>\n",
       "      <td>0</td>\n",
       "      <td>3</td>\n",
       "      <td>2626</td>\n",
       "      <td>2628</td>\n",
       "      <td>0</td>\n",
       "      <td>9</td>\n",
       "      <td>...</td>\n",
       "      <td>3</td>\n",
       "      <td>3</td>\n",
       "      <td>3</td>\n",
       "      <td>4</td>\n",
       "      <td>3</td>\n",
       "      <td>2</td>\n",
       "      <td>3</td>\n",
       "      <td>1.0</td>\n",
       "      <td>2.0</td>\n",
       "      <td>3.0</td>\n",
       "    </tr>\n",
       "  </tbody>\n",
       "</table>\n",
       "<p>5 rows × 34 columns</p>\n",
       "</div>"
      ],
      "text/plain": [
       "     SAMPN  PERNO  PERTYPE  ORIG_HOME  DEST_HOME  DOW  OTAZ  DTAZ  OTPURP_AGG  \\\n",
       "0  3000056      1        2          1          0    3  2626  2627           0   \n",
       "1  3000056      1        2          0          1    3  2627  2626           9   \n",
       "2  3000056      1        2          1          0    3  2626  2627           0   \n",
       "3  3000056      1        2          0          1    3  2627  2626           1   \n",
       "4  3000056      1        2          1          0    3  2626  2628           0   \n",
       "\n",
       "   DTPURP_AGG     ...       DTPURP_R  ODTPURP  ODTPURP1  ODTPURP2  ODTPURP2_R  \\\n",
       "0           9     ...              3        3         3         4           3   \n",
       "1           0     ...              0        6        10         4           3   \n",
       "2           1     ...              1        1         1         1           1   \n",
       "3           0     ...              0        4         8         1           1   \n",
       "4           9     ...              3        3         3         4           3   \n",
       "\n",
       "   WORKTRIP  TOD_R  TOD_PEAK  TRIPDIST_R1  TRIPDIST_R2  \n",
       "0         2      1       1.0          2.0          3.0  \n",
       "1         2      1       1.0          2.0          3.0  \n",
       "2         1      2       0.0          2.0          3.0  \n",
       "3         1      2       0.0          2.0          3.0  \n",
       "4         2      3       1.0          2.0          3.0  \n",
       "\n",
       "[5 rows x 34 columns]"
      ]
     },
     "execution_count": 85,
     "metadata": {},
     "output_type": "execute_result"
    }
   ],
   "source": [
    "linked_clean.head()"
   ]
  },
  {
   "cell_type": "code",
   "execution_count": 86,
   "metadata": {
    "collapsed": true
   },
   "outputs": [],
   "source": [
    "linked_clean.to_csv('../Data/linked_trips.csv')"
   ]
  },
  {
   "cell_type": "markdown",
   "metadata": {
    "collapsed": true,
    "deletable": true,
    "editable": true
   },
   "source": [
    "# Clean Household Dataset"
   ]
  },
  {
   "cell_type": "code",
   "execution_count": 87,
   "metadata": {
    "collapsed": false
   },
   "outputs": [
    {
     "data": {
      "text/plain": [
       "18965"
      ]
     },
     "execution_count": 87,
     "metadata": {},
     "output_type": "execute_result"
    }
   ],
   "source": [
    "len(household_clean)"
   ]
  },
  {
   "cell_type": "code",
   "execution_count": 88,
   "metadata": {
    "collapsed": false
   },
   "outputs": [
    {
     "data": {
      "text/plain": [
       "SAMPN    False\n",
       "STYPE    False\n",
       "CTFIP    False\n",
       "INCOM    False\n",
       "DOW      False\n",
       "HHVEH    False\n",
       "dtype: bool"
      ]
     },
     "execution_count": 88,
     "metadata": {},
     "output_type": "execute_result"
    }
   ],
   "source": [
    "household_clean.isnull().any()"
   ]
  },
  {
   "cell_type": "code",
   "execution_count": 89,
   "metadata": {
    "collapsed": true
   },
   "outputs": [],
   "source": [
    "household_clean = household_clean.loc[household_clean['INCOM'] != 99]\n"
   ]
  },
  {
   "cell_type": "code",
   "execution_count": 90,
   "metadata": {
    "collapsed": false
   },
   "outputs": [
    {
     "data": {
      "text/plain": [
       "17635"
      ]
     },
     "execution_count": 90,
     "metadata": {},
     "output_type": "execute_result"
    }
   ],
   "source": [
    "len(household_clean)"
   ]
  },
  {
   "cell_type": "code",
   "execution_count": 91,
   "metadata": {
    "collapsed": false
   },
   "outputs": [
    {
     "data": {
      "text/html": [
       "<div>\n",
       "<table border=\"1\" class=\"dataframe\">\n",
       "  <thead>\n",
       "    <tr style=\"text-align: right;\">\n",
       "      <th></th>\n",
       "      <th>SAMPN</th>\n",
       "      <th>STYPE</th>\n",
       "      <th>CTFIP</th>\n",
       "      <th>INCOM</th>\n",
       "      <th>DOW</th>\n",
       "      <th>HHVEH</th>\n",
       "    </tr>\n",
       "  </thead>\n",
       "  <tbody>\n",
       "    <tr>\n",
       "      <th>0</th>\n",
       "      <td>3000056</td>\n",
       "      <td>1</td>\n",
       "      <td>9001</td>\n",
       "      <td>5</td>\n",
       "      <td>3</td>\n",
       "      <td>3</td>\n",
       "    </tr>\n",
       "    <tr>\n",
       "      <th>1</th>\n",
       "      <td>3000128</td>\n",
       "      <td>1</td>\n",
       "      <td>36027</td>\n",
       "      <td>4</td>\n",
       "      <td>4</td>\n",
       "      <td>2</td>\n",
       "    </tr>\n",
       "    <tr>\n",
       "      <th>3</th>\n",
       "      <td>3000146</td>\n",
       "      <td>1</td>\n",
       "      <td>34027</td>\n",
       "      <td>5</td>\n",
       "      <td>2</td>\n",
       "      <td>1</td>\n",
       "    </tr>\n",
       "    <tr>\n",
       "      <th>4</th>\n",
       "      <td>3000157</td>\n",
       "      <td>1</td>\n",
       "      <td>34017</td>\n",
       "      <td>1</td>\n",
       "      <td>3</td>\n",
       "      <td>0</td>\n",
       "    </tr>\n",
       "    <tr>\n",
       "      <th>6</th>\n",
       "      <td>3000250</td>\n",
       "      <td>1</td>\n",
       "      <td>36059</td>\n",
       "      <td>3</td>\n",
       "      <td>2</td>\n",
       "      <td>1</td>\n",
       "    </tr>\n",
       "  </tbody>\n",
       "</table>\n",
       "</div>"
      ],
      "text/plain": [
       "     SAMPN  STYPE  CTFIP  INCOM  DOW  HHVEH\n",
       "0  3000056      1   9001      5    3      3\n",
       "1  3000128      1  36027      4    4      2\n",
       "3  3000146      1  34027      5    2      1\n",
       "4  3000157      1  34017      1    3      0\n",
       "6  3000250      1  36059      3    2      1"
      ]
     },
     "execution_count": 91,
     "metadata": {},
     "output_type": "execute_result"
    }
   ],
   "source": [
    "household_clean.head()"
   ]
  },
  {
   "cell_type": "code",
   "execution_count": 92,
   "metadata": {
    "collapsed": false
   },
   "outputs": [],
   "source": [
    "household_clean.to_csv('../Data/household.csv')"
   ]
  },
  {
   "cell_type": "markdown",
   "metadata": {},
   "source": [
    "# Clean Person Dataset"
   ]
  },
  {
   "cell_type": "code",
   "execution_count": 225,
   "metadata": {
    "collapsed": false
   },
   "outputs": [
    {
     "data": {
      "text/plain": [
       "43558"
      ]
     },
     "execution_count": 225,
     "metadata": {},
     "output_type": "execute_result"
    }
   ],
   "source": [
    "len(person_clean)"
   ]
  },
  {
   "cell_type": "code",
   "execution_count": 226,
   "metadata": {
    "collapsed": false
   },
   "outputs": [
    {
     "data": {
      "text/plain": [
       "SAMPN      False\n",
       "PERNO      False\n",
       "GENDER     False\n",
       "AGE_R      False\n",
       "LIC         True\n",
       "RACE       False\n",
       "EMPLY       True\n",
       "WORKS       True\n",
       "WKSTAT      True\n",
       "JOBS        True\n",
       "WDAYS       True\n",
       "INDUS       True\n",
       "OCCUP       True\n",
       "O_OCCUP    False\n",
       "WLOC        True\n",
       "WFIPS       True\n",
       "WMODE       True\n",
       "O_WMODE    False\n",
       "TTTWS       True\n",
       "CDRIV       True\n",
       "WSTRT      False\n",
       "WEND       False\n",
       "STRVR       True\n",
       "ENDVR       True\n",
       "STUDE      False\n",
       "dtype: bool"
      ]
     },
     "execution_count": 226,
     "metadata": {},
     "output_type": "execute_result"
    }
   ],
   "source": [
    "person_clean.isnull().any()"
   ]
  },
  {
   "cell_type": "code",
   "execution_count": 227,
   "metadata": {
    "collapsed": false
   },
   "outputs": [],
   "source": [
    "person_clean.loc[person_clean.AGE_R == 'Younger than 16 years', 'LIC'] = 'N/A'\n",
    "person_clean.loc[person_clean.AGE_R == 'Younger than 16 years', 'EMPLY'] = 'N/A'\n",
    "person_clean.loc[person_clean.AGE_R == 'Younger than 16 years', 'WORKS'] = 'N/A'\n",
    "person_clean.loc[person_clean.AGE_R == 'Younger than 16 years', 'WKSTAT'] = 'N/A'\n",
    "person_clean.loc[person_clean.AGE_R == 'Younger than 16 years', 'JOBS'] = 'N/A'\n",
    "person_clean.loc[person_clean.AGE_R == 'Younger than 16 years', 'WDAYS'] = 'N/A'\n",
    "person_clean.loc[person_clean.AGE_R == 'Younger than 16 years', 'INDUS'] = 'N/A'\n",
    "person_clean.loc[person_clean.AGE_R == 'Younger than 16 years', 'OCCUP'] = 'N/A'\n",
    "person_clean.loc[person_clean.AGE_R == 'Younger than 16 years', 'O_OCCUP'] = 'N/A'\n",
    "person_clean.loc[person_clean.AGE_R == 'Younger than 16 years', 'WLOC'] = 'N/A'\n",
    "person_clean.loc[person_clean.AGE_R == 'Younger than 16 years', 'WFIPS'] = 'N/A'\n",
    "person_clean.loc[person_clean.AGE_R == 'Younger than 16 years', 'WMODE'] = 'N/A'\n",
    "person_clean.loc[person_clean.AGE_R == 'Younger than 16 years', 'O_WMODE'] = 'N/A'\n",
    "person_clean.loc[person_clean.AGE_R == 'Younger than 16 years', 'TTTWS'] = 'N/A'\n",
    "person_clean.loc[person_clean.AGE_R == 'Younger than 16 years', 'CDRIV'] = 'N/A'\n",
    "person_clean.loc[person_clean.AGE_R == 'Younger than 16 years', 'WSTRT'] = 'N/A'\n",
    "person_clean.loc[person_clean.AGE_R == 'Younger than 16 years', 'WEND'] = 'N/A'\n",
    "person_clean.loc[person_clean.AGE_R == 'Younger than 16 years', 'ENDVR'] = 'N/A'\n",
    "person_clean.loc[person_clean.AGE_R == 'Younger than 16 years', 'STRVR'] = 'N/A'\n"
   ]
  },
  {
   "cell_type": "code",
   "execution_count": 228,
   "metadata": {
    "collapsed": true
   },
   "outputs": [],
   "source": [
    "person_clean.loc[person_clean.WORKS == 'Works', 'WKSTAT'] = 'Employed'\n",
    "person_clean.loc[person_clean.WORKS == 'Not a Worker', 'JOBS'] = 'N/A'\n",
    "person_clean.loc[person_clean.WORKS == 'Not a Worker', 'WDAYS'] = 'N/A'\n",
    "person_clean.loc[person_clean.WORKS == 'Not a Worker', 'INDUS'] = 'N/A'\n",
    "person_clean.loc[person_clean.WORKS == 'Not a Worker', 'OCCUP'] = 'N/A'\n",
    "person_clean.loc[person_clean.WORKS == 'Not a Worker', 'O_OCCUP'] = 'N/A'\n",
    "person_clean.loc[person_clean.WORKS == 'Not a Worker', 'WLOC'] = 'N/A'\n",
    "person_clean.loc[person_clean.WORKS == 'Not a Worker', 'WFIPS'] = 'N/A'\n",
    "person_clean.loc[person_clean.WORKS == 'Not a Worker', 'WMODE'] = 'N/A'\n",
    "person_clean.loc[person_clean.WORKS == 'Not a Worker', 'TTTWS'] = 'N/A'\n",
    "person_clean.loc[person_clean.WORKS == 'Not a Worker', 'CDRIV'] = 'N/A'\n",
    "person_clean.loc[person_clean.WORKS == 'Not a Worker', 'ENDVR'] = 'N/A'\n",
    "person_clean.loc[person_clean.WORKS == 'Not a Worker', 'STRVR'] = 'N/A'"
   ]
  },
  {
   "cell_type": "code",
   "execution_count": 229,
   "metadata": {
    "collapsed": false
   },
   "outputs": [
    {
     "data": {
      "text/plain": [
       "SAMPN      False\n",
       "PERNO      False\n",
       "GENDER     False\n",
       "AGE_R      False\n",
       "LIC         True\n",
       "RACE       False\n",
       "EMPLY       True\n",
       "WORKS       True\n",
       "WKSTAT      True\n",
       "JOBS        True\n",
       "WDAYS       True\n",
       "INDUS       True\n",
       "OCCUP       True\n",
       "O_OCCUP    False\n",
       "WLOC        True\n",
       "WFIPS       True\n",
       "WMODE       True\n",
       "O_WMODE    False\n",
       "TTTWS       True\n",
       "CDRIV       True\n",
       "WSTRT      False\n",
       "WEND       False\n",
       "STRVR       True\n",
       "ENDVR       True\n",
       "STUDE      False\n",
       "dtype: bool"
      ]
     },
     "execution_count": 229,
     "metadata": {},
     "output_type": "execute_result"
    }
   ],
   "source": [
    "person_clean.isnull().any()"
   ]
  },
  {
   "cell_type": "code",
   "execution_count": 230,
   "metadata": {
    "collapsed": false
   },
   "outputs": [
    {
     "data": {
      "text/plain": [
       "43558"
      ]
     },
     "execution_count": 230,
     "metadata": {},
     "output_type": "execute_result"
    }
   ],
   "source": [
    "len(person_clean)"
   ]
  },
  {
   "cell_type": "code",
   "execution_count": 231,
   "metadata": {
    "collapsed": false
   },
   "outputs": [],
   "source": [
    "person_clean = person_clean.loc[person_clean['GENDER'] != 'RF']\n",
    "person_clean = person_clean.loc[person_clean['AGE_R'] != 'Age not provided']\n",
    "person_clean = person_clean.loc[person_clean['LIC'] != 'RF']\n",
    "person_clean = person_clean.loc[person_clean['LIC'] != 'DK']\n",
    "person_clean = person_clean.loc[person_clean['RACE'] != 'RF']\n",
    "person_clean = person_clean.loc[person_clean['RACE'] != 'DK']\n",
    "person_clean = person_clean.loc[person_clean['EMPLY'] != 'RF']\n",
    "person_clean = person_clean.loc[person_clean['EMPLY'] != 'DK']\n",
    "person_clean = person_clean.loc[person_clean['WKSTAT'] != 'RF']\n",
    "person_clean = person_clean.loc[person_clean['WKSTAT'] != 'DK']\n",
    "person_clean = person_clean.loc[person_clean['WDAYS'] != 'RF']\n",
    "person_clean = person_clean.loc[person_clean['WDAYS'] != 'DK']\n",
    "person_clean = person_clean.loc[person_clean['WMODE'] != 'RF']\n",
    "person_clean = person_clean.loc[person_clean['WMODE'] != 'DK']\n",
    "person_clean = person_clean.loc[person_clean['TTTWS'] != 'RF']\n",
    "person_clean = person_clean.loc[person_clean['CDRIV'] != 'RF']\n",
    "person_clean = person_clean.loc[person_clean['CDRIV'] != 'DK']\n",
    "person_clean = person_clean.loc[person_clean['WSTRT'] != 'RF']\n",
    "person_clean = person_clean.loc[person_clean['WSTRT'] != 'DK']\n",
    "person_clean = person_clean.loc[person_clean['WEND'] != 'RF']\n",
    "person_clean = person_clean.loc[person_clean['WEND'] != 'DK']\n",
    "person_clean = person_clean.loc[person_clean['STRVR'] != 'RF']\n",
    "person_clean = person_clean.loc[person_clean['STRVR'] != 'DK']\n",
    "person_clean = person_clean.loc[person_clean['ENDVR'] != 'RF']\n",
    "person_clean = person_clean.loc[person_clean['ENDVR'] != 'DK']\n",
    "person_clean = person_clean.loc[person_clean['STUDE'] != 'RF']\n",
    "person_clean = person_clean.loc[person_clean['STUDE'] != 'DK']\n"
   ]
  },
  {
   "cell_type": "code",
   "execution_count": 232,
   "metadata": {
    "collapsed": false
   },
   "outputs": [
    {
     "data": {
      "text/plain": [
       "40542"
      ]
     },
     "execution_count": 232,
     "metadata": {},
     "output_type": "execute_result"
    }
   ],
   "source": [
    "len(person_clean)"
   ]
  },
  {
   "cell_type": "code",
   "execution_count": 234,
   "metadata": {
    "collapsed": false
   },
   "outputs": [
    {
     "data": {
      "text/plain": [
       "SAMPN         0\n",
       "PERNO         0\n",
       "GENDER        0\n",
       "AGE_R         0\n",
       "LIC           0\n",
       "RACE          0\n",
       "EMPLY         0\n",
       "WORKS         0\n",
       "WKSTAT        0\n",
       "JOBS          0\n",
       "WDAYS         0\n",
       "INDUS         0\n",
       "OCCUP         0\n",
       "O_OCCUP       0\n",
       "WLOC          0\n",
       "WFIPS      1886\n",
       "WMODE      1886\n",
       "O_WMODE       0\n",
       "TTTWS      1886\n",
       "CDRIV      5663\n",
       "WSTRT         0\n",
       "WEND          0\n",
       "STRVR      1886\n",
       "ENDVR      1886\n",
       "STUDE         0\n",
       "dtype: int64"
      ]
     },
     "execution_count": 234,
     "metadata": {},
     "output_type": "execute_result"
    }
   ],
   "source": [
    "person_clean.isnull().sum()"
   ]
  },
  {
   "cell_type": "code",
   "execution_count": 218,
   "metadata": {
    "collapsed": false
   },
   "outputs": [
    {
     "data": {
      "text/html": [
       "<div>\n",
       "<table border=\"1\" class=\"dataframe\">\n",
       "  <thead>\n",
       "    <tr style=\"text-align: right;\">\n",
       "      <th></th>\n",
       "      <th>SAMPN</th>\n",
       "      <th>PERNO</th>\n",
       "      <th>GENDER</th>\n",
       "      <th>AGE_R</th>\n",
       "      <th>LIC</th>\n",
       "      <th>RACE</th>\n",
       "      <th>EMPLY</th>\n",
       "      <th>WORKS</th>\n",
       "      <th>WKSTAT</th>\n",
       "      <th>JOBS</th>\n",
       "      <th>...</th>\n",
       "      <th>WFIPS</th>\n",
       "      <th>WMODE</th>\n",
       "      <th>O_WMODE</th>\n",
       "      <th>TTTWS</th>\n",
       "      <th>CDRIV</th>\n",
       "      <th>WSTRT</th>\n",
       "      <th>WEND</th>\n",
       "      <th>STRVR</th>\n",
       "      <th>ENDVR</th>\n",
       "      <th>STUDE</th>\n",
       "    </tr>\n",
       "  </thead>\n",
       "  <tbody>\n",
       "    <tr>\n",
       "      <th>0</th>\n",
       "      <td>3000056</td>\n",
       "      <td>1</td>\n",
       "      <td>Female</td>\n",
       "      <td>35-54 years</td>\n",
       "      <td>Yes</td>\n",
       "      <td>White</td>\n",
       "      <td>Yes</td>\n",
       "      <td>Works</td>\n",
       "      <td>Employed</td>\n",
       "      <td>1</td>\n",
       "      <td>...</td>\n",
       "      <td>Fairfield</td>\n",
       "      <td>Auto Passenger</td>\n",
       "      <td></td>\n",
       "      <td>8</td>\n",
       "      <td>No</td>\n",
       "      <td>100</td>\n",
       "      <td>300</td>\n",
       "      <td>Start Time Cannot Vary</td>\n",
       "      <td>16 to 30 Minutes</td>\n",
       "      <td>No</td>\n",
       "    </tr>\n",
       "    <tr>\n",
       "      <th>1</th>\n",
       "      <td>3000056</td>\n",
       "      <td>2</td>\n",
       "      <td>Male</td>\n",
       "      <td>35-54 years</td>\n",
       "      <td>Yes</td>\n",
       "      <td>White</td>\n",
       "      <td>Yes</td>\n",
       "      <td>Works</td>\n",
       "      <td>Employed</td>\n",
       "      <td>2</td>\n",
       "      <td>...</td>\n",
       "      <td>Bergen</td>\n",
       "      <td>Auto Passenger</td>\n",
       "      <td></td>\n",
       "      <td>90</td>\n",
       "      <td>No</td>\n",
       "      <td>730</td>\n",
       "      <td>1900</td>\n",
       "      <td>Within 15 Minutes or Less</td>\n",
       "      <td>More than 1 Hour</td>\n",
       "      <td>No</td>\n",
       "    </tr>\n",
       "    <tr>\n",
       "      <th>2</th>\n",
       "      <td>3000056</td>\n",
       "      <td>3</td>\n",
       "      <td>Male</td>\n",
       "      <td>19-24 years</td>\n",
       "      <td>Yes</td>\n",
       "      <td>White</td>\n",
       "      <td>Yes</td>\n",
       "      <td>Works</td>\n",
       "      <td>Employed</td>\n",
       "      <td>1</td>\n",
       "      <td>...</td>\n",
       "      <td>Fairfield</td>\n",
       "      <td>Auto Passenger</td>\n",
       "      <td></td>\n",
       "      <td>14</td>\n",
       "      <td>No</td>\n",
       "      <td>1800</td>\n",
       "      <td>2330</td>\n",
       "      <td>More than 1 Hour</td>\n",
       "      <td>More than 1 Hour</td>\n",
       "      <td>Yes - Full Time</td>\n",
       "    </tr>\n",
       "    <tr>\n",
       "      <th>3</th>\n",
       "      <td>3000056</td>\n",
       "      <td>4</td>\n",
       "      <td>Male</td>\n",
       "      <td>16-18 years</td>\n",
       "      <td>Yes</td>\n",
       "      <td>White</td>\n",
       "      <td>Yes</td>\n",
       "      <td>Works</td>\n",
       "      <td>Employed</td>\n",
       "      <td>1</td>\n",
       "      <td>...</td>\n",
       "      <td>Fairfield</td>\n",
       "      <td>Auto Passenger</td>\n",
       "      <td></td>\n",
       "      <td>14</td>\n",
       "      <td>No</td>\n",
       "      <td>1600</td>\n",
       "      <td>2330</td>\n",
       "      <td>More than 1 Hour</td>\n",
       "      <td>More than 1 Hour</td>\n",
       "      <td>Yes - Full Time</td>\n",
       "    </tr>\n",
       "    <tr>\n",
       "      <th>4</th>\n",
       "      <td>3000056</td>\n",
       "      <td>5</td>\n",
       "      <td>Female</td>\n",
       "      <td>Younger than 16 years</td>\n",
       "      <td>N/A</td>\n",
       "      <td>White</td>\n",
       "      <td>N/A</td>\n",
       "      <td>N/A</td>\n",
       "      <td>N/A</td>\n",
       "      <td>N/A</td>\n",
       "      <td>...</td>\n",
       "      <td>N/A</td>\n",
       "      <td>N/A</td>\n",
       "      <td>N/A</td>\n",
       "      <td>N/A</td>\n",
       "      <td>N/A</td>\n",
       "      <td>N/A</td>\n",
       "      <td>N/A</td>\n",
       "      <td>N/A</td>\n",
       "      <td>N/A</td>\n",
       "      <td>Yes - Full Time</td>\n",
       "    </tr>\n",
       "  </tbody>\n",
       "</table>\n",
       "<p>5 rows × 25 columns</p>\n",
       "</div>"
      ],
      "text/plain": [
       "     SAMPN  PERNO  GENDER                  AGE_R  LIC   RACE EMPLY  WORKS  \\\n",
       "0  3000056      1  Female            35-54 years  Yes  White   Yes  Works   \n",
       "1  3000056      2    Male            35-54 years  Yes  White   Yes  Works   \n",
       "2  3000056      3    Male            19-24 years  Yes  White   Yes  Works   \n",
       "3  3000056      4    Male            16-18 years  Yes  White   Yes  Works   \n",
       "4  3000056      5  Female  Younger than 16 years  N/A  White   N/A    N/A   \n",
       "\n",
       "     WKSTAT JOBS       ...             WFIPS           WMODE O_WMODE TTTWS  \\\n",
       "0  Employed    1       ...         Fairfield  Auto Passenger             8   \n",
       "1  Employed    2       ...            Bergen  Auto Passenger            90   \n",
       "2  Employed    1       ...         Fairfield  Auto Passenger            14   \n",
       "3  Employed    1       ...         Fairfield  Auto Passenger            14   \n",
       "4       N/A  N/A       ...               N/A             N/A     N/A   N/A   \n",
       "\n",
       "  CDRIV WSTRT  WEND                      STRVR             ENDVR  \\\n",
       "0    No   100   300     Start Time Cannot Vary  16 to 30 Minutes   \n",
       "1    No   730  1900  Within 15 Minutes or Less  More than 1 Hour   \n",
       "2    No  1800  2330           More than 1 Hour  More than 1 Hour   \n",
       "3    No  1600  2330           More than 1 Hour  More than 1 Hour   \n",
       "4   N/A   N/A   N/A                        N/A               N/A   \n",
       "\n",
       "             STUDE  \n",
       "0               No  \n",
       "1               No  \n",
       "2  Yes - Full Time  \n",
       "3  Yes - Full Time  \n",
       "4  Yes - Full Time  \n",
       "\n",
       "[5 rows x 25 columns]"
      ]
     },
     "execution_count": 218,
     "metadata": {},
     "output_type": "execute_result"
    }
   ],
   "source": [
    "person_clean.head()"
   ]
  },
  {
   "cell_type": "code",
   "execution_count": 240,
   "metadata": {
    "collapsed": true
   },
   "outputs": [],
   "source": [
    "person_clean.to_csv('../Data/person.csv')"
   ]
  },
  {
   "cell_type": "markdown",
   "metadata": {},
   "source": [
    "# Merge Datasets"
   ]
  },
  {
   "cell_type": "code",
   "execution_count": 246,
   "metadata": {
    "collapsed": false,
    "deletable": true,
    "editable": true
   },
   "outputs": [
    {
     "data": {
      "text/html": [
       "<div>\n",
       "<table border=\"1\" class=\"dataframe\">\n",
       "  <thead>\n",
       "    <tr style=\"text-align: right;\">\n",
       "      <th></th>\n",
       "      <th>SAMPN</th>\n",
       "      <th>PERNO</th>\n",
       "      <th>PERTYPE</th>\n",
       "      <th>ORIG_HOME</th>\n",
       "      <th>DEST_HOME</th>\n",
       "      <th>DOW_x</th>\n",
       "      <th>OTAZ</th>\n",
       "      <th>DTAZ</th>\n",
       "      <th>OTPURP_AGG</th>\n",
       "      <th>DTPURP_AGG</th>\n",
       "      <th>...</th>\n",
       "      <th>WFIPS</th>\n",
       "      <th>WMODE</th>\n",
       "      <th>O_WMODE</th>\n",
       "      <th>TTTWS</th>\n",
       "      <th>CDRIV</th>\n",
       "      <th>WSTRT</th>\n",
       "      <th>WEND</th>\n",
       "      <th>STRVR</th>\n",
       "      <th>ENDVR</th>\n",
       "      <th>STUDE</th>\n",
       "    </tr>\n",
       "  </thead>\n",
       "  <tbody>\n",
       "    <tr>\n",
       "      <th>0</th>\n",
       "      <td>3000056</td>\n",
       "      <td>1</td>\n",
       "      <td>2</td>\n",
       "      <td>1</td>\n",
       "      <td>0</td>\n",
       "      <td>3</td>\n",
       "      <td>2626</td>\n",
       "      <td>2627</td>\n",
       "      <td>0</td>\n",
       "      <td>9</td>\n",
       "      <td>...</td>\n",
       "      <td>Fairfield</td>\n",
       "      <td>Auto Passenger</td>\n",
       "      <td></td>\n",
       "      <td>8</td>\n",
       "      <td>No</td>\n",
       "      <td>100</td>\n",
       "      <td>300</td>\n",
       "      <td>Start Time Cannot Vary</td>\n",
       "      <td>16 to 30 Minutes</td>\n",
       "      <td>No</td>\n",
       "    </tr>\n",
       "    <tr>\n",
       "      <th>1</th>\n",
       "      <td>3000056</td>\n",
       "      <td>1</td>\n",
       "      <td>2</td>\n",
       "      <td>0</td>\n",
       "      <td>1</td>\n",
       "      <td>3</td>\n",
       "      <td>2627</td>\n",
       "      <td>2626</td>\n",
       "      <td>9</td>\n",
       "      <td>0</td>\n",
       "      <td>...</td>\n",
       "      <td>Fairfield</td>\n",
       "      <td>Auto Passenger</td>\n",
       "      <td></td>\n",
       "      <td>8</td>\n",
       "      <td>No</td>\n",
       "      <td>100</td>\n",
       "      <td>300</td>\n",
       "      <td>Start Time Cannot Vary</td>\n",
       "      <td>16 to 30 Minutes</td>\n",
       "      <td>No</td>\n",
       "    </tr>\n",
       "    <tr>\n",
       "      <th>2</th>\n",
       "      <td>3000056</td>\n",
       "      <td>1</td>\n",
       "      <td>2</td>\n",
       "      <td>1</td>\n",
       "      <td>0</td>\n",
       "      <td>3</td>\n",
       "      <td>2626</td>\n",
       "      <td>2627</td>\n",
       "      <td>0</td>\n",
       "      <td>1</td>\n",
       "      <td>...</td>\n",
       "      <td>Fairfield</td>\n",
       "      <td>Auto Passenger</td>\n",
       "      <td></td>\n",
       "      <td>8</td>\n",
       "      <td>No</td>\n",
       "      <td>100</td>\n",
       "      <td>300</td>\n",
       "      <td>Start Time Cannot Vary</td>\n",
       "      <td>16 to 30 Minutes</td>\n",
       "      <td>No</td>\n",
       "    </tr>\n",
       "    <tr>\n",
       "      <th>3</th>\n",
       "      <td>3000056</td>\n",
       "      <td>1</td>\n",
       "      <td>2</td>\n",
       "      <td>0</td>\n",
       "      <td>1</td>\n",
       "      <td>3</td>\n",
       "      <td>2627</td>\n",
       "      <td>2626</td>\n",
       "      <td>1</td>\n",
       "      <td>0</td>\n",
       "      <td>...</td>\n",
       "      <td>Fairfield</td>\n",
       "      <td>Auto Passenger</td>\n",
       "      <td></td>\n",
       "      <td>8</td>\n",
       "      <td>No</td>\n",
       "      <td>100</td>\n",
       "      <td>300</td>\n",
       "      <td>Start Time Cannot Vary</td>\n",
       "      <td>16 to 30 Minutes</td>\n",
       "      <td>No</td>\n",
       "    </tr>\n",
       "    <tr>\n",
       "      <th>4</th>\n",
       "      <td>3000056</td>\n",
       "      <td>1</td>\n",
       "      <td>2</td>\n",
       "      <td>1</td>\n",
       "      <td>0</td>\n",
       "      <td>3</td>\n",
       "      <td>2626</td>\n",
       "      <td>2628</td>\n",
       "      <td>0</td>\n",
       "      <td>9</td>\n",
       "      <td>...</td>\n",
       "      <td>Fairfield</td>\n",
       "      <td>Auto Passenger</td>\n",
       "      <td></td>\n",
       "      <td>8</td>\n",
       "      <td>No</td>\n",
       "      <td>100</td>\n",
       "      <td>300</td>\n",
       "      <td>Start Time Cannot Vary</td>\n",
       "      <td>16 to 30 Minutes</td>\n",
       "      <td>No</td>\n",
       "    </tr>\n",
       "  </tbody>\n",
       "</table>\n",
       "<p>5 rows × 62 columns</p>\n",
       "</div>"
      ],
      "text/plain": [
       "     SAMPN  PERNO  PERTYPE  ORIG_HOME  DEST_HOME  DOW_x  OTAZ  DTAZ  \\\n",
       "0  3000056      1        2          1          0      3  2626  2627   \n",
       "1  3000056      1        2          0          1      3  2627  2626   \n",
       "2  3000056      1        2          1          0      3  2626  2627   \n",
       "3  3000056      1        2          0          1      3  2627  2626   \n",
       "4  3000056      1        2          1          0      3  2626  2628   \n",
       "\n",
       "   OTPURP_AGG  DTPURP_AGG  ...        WFIPS           WMODE  O_WMODE  TTTWS  \\\n",
       "0           0           9  ...    Fairfield  Auto Passenger               8   \n",
       "1           9           0  ...    Fairfield  Auto Passenger               8   \n",
       "2           0           1  ...    Fairfield  Auto Passenger               8   \n",
       "3           1           0  ...    Fairfield  Auto Passenger               8   \n",
       "4           0           9  ...    Fairfield  Auto Passenger               8   \n",
       "\n",
       "   CDRIV  WSTRT  WEND                   STRVR             ENDVR  STUDE  \n",
       "0     No    100   300  Start Time Cannot Vary  16 to 30 Minutes     No  \n",
       "1     No    100   300  Start Time Cannot Vary  16 to 30 Minutes     No  \n",
       "2     No    100   300  Start Time Cannot Vary  16 to 30 Minutes     No  \n",
       "3     No    100   300  Start Time Cannot Vary  16 to 30 Minutes     No  \n",
       "4     No    100   300  Start Time Cannot Vary  16 to 30 Minutes     No  \n",
       "\n",
       "[5 rows x 62 columns]"
      ]
     },
     "execution_count": 246,
     "metadata": {},
     "output_type": "execute_result"
    }
   ],
   "source": [
    "linked_household = pd.merge(linked_clean, household_clean, how='inner', on=['SAMPN'])\n",
    "trip_survey = pd.merge(linked_household, person_clean, how='inner', on=['SAMPN', 'PERNO'])\n",
    "trip_survey.head()\n"
   ]
  },
  {
   "cell_type": "code",
   "execution_count": 247,
   "metadata": {
    "collapsed": false
   },
   "outputs": [
    {
     "data": {
      "text/plain": [
       "133942"
      ]
     },
     "execution_count": 247,
     "metadata": {},
     "output_type": "execute_result"
    }
   ],
   "source": [
    "len(trip_survey)"
   ]
  },
  {
   "cell_type": "code",
   "execution_count": 249,
   "metadata": {
    "collapsed": false,
    "deletable": true,
    "editable": true
   },
   "outputs": [],
   "source": [
    "trip_survey.to_csv('../Data/trip_survey_working.csv')"
   ]
  }
 ],
 "metadata": {
  "anaconda-cloud": {},
  "kernelspec": {
   "display_name": "Python [default]",
   "language": "python",
   "name": "python2"
  },
  "language_info": {
   "codemirror_mode": {
    "name": "ipython",
    "version": 2
   },
   "file_extension": ".py",
   "mimetype": "text/x-python",
   "name": "python",
   "nbconvert_exporter": "python",
   "pygments_lexer": "ipython2",
   "version": "2.7.8"
  }
 },
 "nbformat": 4,
 "nbformat_minor": 2
}
